{
  "nbformat": 4,
  "nbformat_minor": 0,
  "metadata": {
    "colab": {
      "provenance": [],
      "authorship_tag": "ABX9TyPctzIEaJ5z6bMy1T9lj5L5",
      "include_colab_link": true
    },
    "kernelspec": {
      "name": "python3",
      "display_name": "Python 3"
    },
    "language_info": {
      "name": "python"
    }
  },
  "cells": [
    {
      "cell_type": "markdown",
      "metadata": {
        "id": "view-in-github",
        "colab_type": "text"
      },
      "source": [
        "<a href=\"https://colab.research.google.com/github/PedrodiazH/Ayudantia-PythonUBB-ICA-2024-2/blob/main/Ejercicios_estructuras_datos.ipynb\" target=\"_parent\"><img src=\"https://colab.research.google.com/assets/colab-badge.svg\" alt=\"Open In Colab\"/></a>"
      ]
    },
    {
      "cell_type": "code",
      "execution_count": 3,
      "metadata": {
        "colab": {
          "base_uri": "https://localhost:8080/"
        },
        "id": "1ZYd8uDSoMw_",
        "outputId": "13cd3619-6a36-4aeb-c7d9-966ea9d78675"
      },
      "outputs": [
        {
          "output_type": "stream",
          "name": "stdout",
          "text": [
            "Producto: Manzanas, Precio: 0.5, Cantidad en stock: 100\n",
            "Producto: Naranjas, Precio: 0.7, Cantidad en stock: 150\n",
            "Producto: Peras, Precio: 0.65, Cantidad en stock: 80\n"
          ]
        }
      ],
      "source": [
        "# Ejercicio 1\n",
        "# Inventario en tupla\n",
        "producto1 = (\"Manzanas\", 500, 100)\n",
        "producto2 = (\"Naranjas\", 300, 150)\n",
        "producto3 = (\"Peras\", 400, 80)\n",
        "\n",
        "# Almacenar las tuplas en una lista\n",
        "productosLista = [producto1, producto2, producto3]\n",
        "\n",
        "# Recorrer la lista y mostrar la informacion en pantalla\n",
        "for producto in productosLista:\n",
        "    nombre, precio, cantidad = producto\n",
        "    print(f\"Producto: {nombre}, Precio: {precio}, Stock: {cantidad}\")\n"
      ]
    },
    {
      "cell_type": "code",
      "source": [
        "# Ejercicio 2\n",
        "computadoras = {\n",
        "'PC1': {'RAM': '8GB', 'Procesador': 'Intel i5', 'Disco Duro': '256GB SSD'},\n",
        "'PC2': {'RAM': '16GB', 'Procesador': 'AMD Ryzen 7', 'Disco Duro': '512GB SSD'},\n",
        "'PC3': {'RAM': '4GB', 'Procesador': 'Intel i3', 'Disco Duro': '1TB HDD'},\n",
        "'PC4': {'RAM': '32GB', 'Procesador': 'Intel i9', 'Disco Duro': '1TB SSD'},\n",
        "'PC5': {'RAM': '8GB', 'Procesador': 'AMD Ryzen 5', 'Disco Duro': '500GB SSD'}\n",
        "}\n",
        "\n",
        "# Crear una copia del diccionario para iterar\n",
        "computadoras_copy = computadoras.copy()\n",
        "\n",
        "# Imprimir los PCs con 8GB de RAM y eliminar los PCs con 8GB de RAM\n",
        "for pc, especificaciones in computadoras_copy.items():\n",
        "    if especificaciones['RAM'] == '8GB':\n",
        "        computadoras.pop(pc)\n",
        "\n",
        "# Imprimir el diccionario actualizado\n",
        "print('Los computadores sin 8gb de ram disponibles son:')\n",
        "print(computadoras.keys())\n",
        "\n"
      ],
      "metadata": {
        "colab": {
          "base_uri": "https://localhost:8080/"
        },
        "id": "5ljzxuIqtwh7",
        "outputId": "dc0b92c2-17d2-4429-fe47-9300e8686050"
      },
      "execution_count": 15,
      "outputs": [
        {
          "output_type": "stream",
          "name": "stdout",
          "text": [
            "Los computadores sin 8gb de ram disponibles son:\n",
            "dict_keys(['PC2', 'PC3', 'PC4'])\n"
          ]
        }
      ]
    }
  ]
}